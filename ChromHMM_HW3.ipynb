{
  "nbformat": 4,
  "nbformat_minor": 0,
  "metadata": {
    "colab": {
      "provenance": []
    },
    "kernelspec": {
      "name": "python3",
      "display_name": "Python 3"
    },
    "language_info": {
      "name": "python"
    },
    "gpuClass": "standard"
  },
  "cells": [
    {
      "cell_type": "markdown",
      "source": [
        "# Устанавливаем java и ChromHmm"
      ],
      "metadata": {
        "id": "vRciyzvPEDLD"
      }
    },
    {
      "cell_type": "code",
      "source": [
        "# !apt-get --purge remove cuda nvidia* libnvidia-*\n",
        "# !dpkg -l | grep cuda- | awk '{print $2}' | xargs -n1 dpkg --purge\n",
        "# !apt-get remove cuda-*\n",
        "# !apt autoremove\n",
        "# !apt-get update\n",
        "\n",
        "# !wget  --no-clobber https://developer.download.nvidia.com/compute/cuda/repos/ubuntu1804/x86_64/cuda-repo-ubuntu1804_10.0.130-1_amd64.deb\n",
        "# #install CUDA kit dpkg\n",
        "# !dpkg -i cuda-repo-ubuntu1804_10.0.130-1_amd64.deb\n",
        "# !sudo apt-key adv --fetch-keys https://developer.download.nvidia.com/compute/cuda/repos/ubuntu1804/x86_64/7fa2af80.pub\n",
        "# !apt-get update\n",
        "# !apt-get install cuda-10-0"
      ],
      "metadata": {
        "id": "1O3GJ3Gys7Tm"
      },
      "execution_count": 1,
      "outputs": []
    },
    {
      "cell_type": "code",
      "source": [
        "# !nvcc --version"
      ],
      "metadata": {
        "id": "V2QrqMXd2UzM"
      },
      "execution_count": 2,
      "outputs": []
    },
    {
      "cell_type": "code",
      "source": [
        "!curl -O https://raw.githubusercontent.com/deepjavalibrary/d2l-java/master/tools/fix-colab-gpu.sh && bash fix-colab-gpu.sh"
      ],
      "metadata": {
        "colab": {
          "base_uri": "https://localhost:8080/"
        },
        "id": "M_u5WdOp2Qt0",
        "outputId": "e1ef60ad-34eb-4351-dda4-e0682ce91116"
      },
      "execution_count": 3,
      "outputs": [
        {
          "output_type": "stream",
          "name": "stdout",
          "text": [
            "  % Total    % Received % Xferd  Average Speed   Time    Time     Time  Current\n",
            "                                 Dload  Upload   Total   Spent    Left  Speed\n",
            "100   155  100   155    0     0    457      0 --:--:-- --:--:-- --:--:--   457\n",
            "fix-colab-gpu.sh: line 5: nvcc: command not found\n"
          ]
        }
      ]
    },
    {
      "cell_type": "code",
      "execution_count": 3,
      "metadata": {
        "colab": {
          "base_uri": "https://localhost:8080/"
        },
        "id": "NxS1Mv5WquOV",
        "outputId": "8233a4b7-1ccc-483e-d7d4-686a7af3ab35"
      },
      "outputs": [
        {
          "output_type": "stream",
          "name": "stdout",
          "text": [
            "  % Total    % Received % Xferd  Average Speed   Time    Time     Time  Current\n",
            "                                 Dload  Upload   Total   Spent    Left  Speed\n",
            "\r  0     0    0     0    0     0      0      0 --:--:-- --:--:-- --:--:--     0\r100   520  100   520    0     0   3312      0 --:--:-- --:--:-- --:--:--  3312\n",
            "Update environment...\n",
            "Install Java...\n",
            "Install Jupyter java kernel...\n"
          ]
        }
      ],
      "source": [
        "!curl -O https://raw.githubusercontent.com/deepjavalibrary/d2l-java/master/tools/colab_build.sh && bash colab_build.sh"
      ]
    },
    {
      "cell_type": "code",
      "source": [
        "!java --list-modules | grep \"jdk.jshell\"\n"
      ],
      "metadata": {
        "colab": {
          "base_uri": "https://localhost:8080/"
        },
        "id": "_NrPS924rQFX",
        "outputId": "e6072ed8-86a4-4251-976d-830f6242e1cf"
      },
      "execution_count": 4,
      "outputs": [
        {
          "output_type": "stream",
          "name": "stdout",
          "text": [
            "jdk.jshell@11.0.18\n"
          ]
        }
      ]
    },
    {
      "cell_type": "code",
      "source": [
        "! wget http://compbio.mit.edu/ChromHMM/ChromHMM.zip"
      ],
      "metadata": {
        "colab": {
          "base_uri": "https://localhost:8080/"
        },
        "id": "zCdYYvCJrpRt",
        "outputId": "a204c380-1d65-40db-a4e4-4ddb6a526d7d"
      },
      "execution_count": 5,
      "outputs": [
        {
          "output_type": "stream",
          "name": "stdout",
          "text": [
            "--2023-04-05 12:18:40--  http://compbio.mit.edu/ChromHMM/ChromHMM.zip\n",
            "Resolving compbio.mit.edu (compbio.mit.edu)... 128.30.2.44\n",
            "Connecting to compbio.mit.edu (compbio.mit.edu)|128.30.2.44|:80... connected.\n",
            "HTTP request sent, awaiting response... 200 OK\n",
            "Length: 48940646 (47M) [application/zip]\n",
            "Saving to: ‘ChromHMM.zip’\n",
            "\n",
            "ChromHMM.zip        100%[===================>]  46.67M  6.51MB/s    in 7.8s    \n",
            "\n",
            "2023-04-05 12:18:48 (6.00 MB/s) - ‘ChromHMM.zip’ saved [48940646/48940646]\n",
            "\n"
          ]
        }
      ]
    },
    {
      "cell_type": "code",
      "source": [
        "!unzip /content/ChromHMM.zip"
      ],
      "metadata": {
        "id": "gF4uI2bvvEN2"
      },
      "execution_count": null,
      "outputs": []
    },
    {
      "cell_type": "markdown",
      "source": [
        "## Скачиваем файлы"
      ],
      "metadata": {
        "id": "k80uGrS5quq1"
      }
    },
    {
      "cell_type": "markdown",
      "source": [
        "Пример"
      ],
      "metadata": {
        "id": "zbZOefNL7wej"
      }
    },
    {
      "cell_type": "code",
      "source": [
        "!wget http://hgdownload.cse.ucsc.edu/goldenPath/hg19/encodeDCC/wgEncodeBroadHistone/wgEncodeBroadHistoneHsmmtH2azStdAlnRep1.bam -O H2azStdAlnRep1.bam\n",
        "!wget http://hgdownload.cse.ucsc.edu/goldenPath/hg19/encodeDCC/wgEncodeBroadHistone/wgEncodeBroadHistoneHsmmtH3k27acStdAlnRep1.bam -O H3k27acStdAlnRep1.bam\n",
        "!wget http://hgdownload.cse.ucsc.edu/goldenPath/hg19/encodeDCC/wgEncodeBroadHistone/wgEncodeBroadHistoneHsmmtH3k36me3StdAlnRep1.bam -O H3k36me3StdAlnRep1.bam\n",
        "!wget http://hgdownload.cse.ucsc.edu/goldenPath/hg19/encodeDCC/wgEncodeBroadHistone/wgEncodeBroadHistoneHsmmtH3k4me1StdAlnRep1.bam -O H3k4me1StdAlnRep1.bam\n",
        "!wget http://hgdownload.cse.ucsc.edu/goldenPath/hg19/encodeDCC/wgEncodeBroadHistone/wgEncodeBroadHistoneHsmmtH3k4me2StdAlnRep1.bam -O H3k4me2StdAlnRep1.bam\n",
        "!wget http://hgdownload.cse.ucsc.edu/goldenPath/hg19/encodeDCC/wgEncodeBroadHistone/wgEncodeBroadHistoneHsmmtH3k4me3StdAlnRep1.bam -O H3k4me3StdAlnRep1.bam\n",
        "!wget http://hgdownload.cse.ucsc.edu/goldenPath/hg19/encodeDCC/wgEncodeBroadHistone/wgEncodeBroadHistoneHsmmtH3k79me2StdAlnRep1.bam -O H3k79me2StdAlnRep1.bam\n",
        "!wget http://hgdownload.cse.ucsc.edu/goldenPath/hg19/encodeDCC/wgEncodeBroadHistone/wgEncodeBroadHistoneHsmmtH3k9acStdAlnRep1.bam -O H3k9acStdAlnRep1.bam\n",
        "!wget http://hgdownload.cse.ucsc.edu/goldenPath/hg19/encodeDCC/wgEncodeBroadHistone/wgEncodeBroadHistoneHsmmtH4k20me1StdAlnRep1.bam -O H4k20me1StdAlnRep1.bam\n",
        "!wget http://hgdownload.cse.ucsc.edu/goldenPath/hg19/encodeDCC/wgEncodeBroadHistone/wgEncodeBroadHistoneHsmmtCtcfStdAlnRep1.bam -O CtcfStdAlnRep1.bam\n",
        "!wget http://hgdownload.cse.ucsc.edu/goldenPath/hg19/encodeDCC/wgEncodeBroadHistone/wgEncodeBroadHistoneHsmmtControlStdAlnRep1.bam -O ControlStdAlnRep1.bam\n",
        "\n",
        "!wget https://raw.githubusercontent.com/SpryGorgon/hse_hw3_chromhmm/main/cellmarkfiletable.txt -O cellmarkfiletable.txt"
      ],
      "metadata": {
        "id": "PSWbbv8wcFUY",
        "colab": {
          "base_uri": "https://localhost:8080/"
        },
        "outputId": "d2316aad-14bb-485b-800d-ef67ef1b337f"
      },
      "execution_count": 7,
      "outputs": [
        {
          "output_type": "stream",
          "name": "stdout",
          "text": [
            "--2023-04-05 12:19:15--  http://hgdownload.cse.ucsc.edu/goldenPath/hg19/encodeDCC/wgEncodeBroadHistone/wgEncodeBroadHistoneHsmmtH2azStdAlnRep1.bam\n",
            "Resolving hgdownload.cse.ucsc.edu (hgdownload.cse.ucsc.edu)... 128.114.119.163\n",
            "Connecting to hgdownload.cse.ucsc.edu (hgdownload.cse.ucsc.edu)|128.114.119.163|:80... connected.\n",
            "HTTP request sent, awaiting response... 200 OK\n",
            "Length: 602560882 (575M) [application/octet-stream]\n",
            "Saving to: ‘H2azStdAlnRep1.bam’\n",
            "\n",
            "H2azStdAlnRep1.bam  100%[===================>] 574.65M  50.3MB/s    in 12s     \n",
            "\n",
            "2023-04-05 12:19:27 (47.4 MB/s) - ‘H2azStdAlnRep1.bam’ saved [602560882/602560882]\n",
            "\n",
            "--2023-04-05 12:19:27--  http://hgdownload.cse.ucsc.edu/goldenPath/hg19/encodeDCC/wgEncodeBroadHistone/wgEncodeBroadHistoneHsmmtH3k27acStdAlnRep1.bam\n",
            "Resolving hgdownload.cse.ucsc.edu (hgdownload.cse.ucsc.edu)... 128.114.119.163\n",
            "Connecting to hgdownload.cse.ucsc.edu (hgdownload.cse.ucsc.edu)|128.114.119.163|:80... connected.\n",
            "HTTP request sent, awaiting response... 200 OK\n",
            "Length: 371443631 (354M) [application/octet-stream]\n",
            "Saving to: ‘H3k27acStdAlnRep1.bam’\n",
            "\n",
            "H3k27acStdAlnRep1.b 100%[===================>] 354.24M  51.4MB/s    in 7.5s    \n",
            "\n",
            "2023-04-05 12:19:35 (47.4 MB/s) - ‘H3k27acStdAlnRep1.bam’ saved [371443631/371443631]\n",
            "\n",
            "--2023-04-05 12:19:35--  http://hgdownload.cse.ucsc.edu/goldenPath/hg19/encodeDCC/wgEncodeBroadHistone/wgEncodeBroadHistoneHsmmtH3k36me3StdAlnRep1.bam\n",
            "Resolving hgdownload.cse.ucsc.edu (hgdownload.cse.ucsc.edu)... 128.114.119.163\n",
            "Connecting to hgdownload.cse.ucsc.edu (hgdownload.cse.ucsc.edu)|128.114.119.163|:80... connected.\n",
            "HTTP request sent, awaiting response... 200 OK\n",
            "Length: 514758975 (491M) [application/octet-stream]\n",
            "Saving to: ‘H3k36me3StdAlnRep1.bam’\n",
            "\n",
            "H3k36me3StdAlnRep1. 100%[===================>] 490.91M  51.5MB/s    in 10s     \n",
            "\n",
            "2023-04-05 12:19:45 (47.2 MB/s) - ‘H3k36me3StdAlnRep1.bam’ saved [514758975/514758975]\n",
            "\n",
            "--2023-04-05 12:19:46--  http://hgdownload.cse.ucsc.edu/goldenPath/hg19/encodeDCC/wgEncodeBroadHistone/wgEncodeBroadHistoneHsmmtH3k4me1StdAlnRep1.bam\n",
            "Resolving hgdownload.cse.ucsc.edu (hgdownload.cse.ucsc.edu)... 128.114.119.163\n",
            "Connecting to hgdownload.cse.ucsc.edu (hgdownload.cse.ucsc.edu)|128.114.119.163|:80... connected.\n",
            "HTTP request sent, awaiting response... 200 OK\n",
            "Length: 523712800 (499M) [application/octet-stream]\n",
            "Saving to: ‘H3k4me1StdAlnRep1.bam’\n",
            "\n",
            "H3k4me1StdAlnRep1.b 100%[===================>] 499.45M  51.6MB/s    in 10s     \n",
            "\n",
            "2023-04-05 12:19:56 (47.9 MB/s) - ‘H3k4me1StdAlnRep1.bam’ saved [523712800/523712800]\n",
            "\n",
            "--2023-04-05 12:19:56--  http://hgdownload.cse.ucsc.edu/goldenPath/hg19/encodeDCC/wgEncodeBroadHistone/wgEncodeBroadHistoneHsmmtH3k4me2StdAlnRep1.bam\n",
            "Resolving hgdownload.cse.ucsc.edu (hgdownload.cse.ucsc.edu)... 128.114.119.163\n",
            "Connecting to hgdownload.cse.ucsc.edu (hgdownload.cse.ucsc.edu)|128.114.119.163|:80... connected.\n",
            "HTTP request sent, awaiting response... 200 OK\n",
            "Length: 601414710 (574M) [application/octet-stream]\n",
            "Saving to: ‘H3k4me2StdAlnRep1.bam’\n",
            "\n",
            "H3k4me2StdAlnRep1.b 100%[===================>] 573.55M  51.3MB/s    in 12s     \n",
            "\n",
            "2023-04-05 12:20:09 (46.3 MB/s) - ‘H3k4me2StdAlnRep1.bam’ saved [601414710/601414710]\n",
            "\n",
            "--2023-04-05 12:20:09--  http://hgdownload.cse.ucsc.edu/goldenPath/hg19/encodeDCC/wgEncodeBroadHistone/wgEncodeBroadHistoneHsmmtH3k4me3StdAlnRep1.bam\n",
            "Resolving hgdownload.cse.ucsc.edu (hgdownload.cse.ucsc.edu)... 128.114.119.163\n",
            "Connecting to hgdownload.cse.ucsc.edu (hgdownload.cse.ucsc.edu)|128.114.119.163|:80... connected.\n",
            "HTTP request sent, awaiting response... 200 OK\n",
            "Length: 350012137 (334M) [application/octet-stream]\n",
            "Saving to: ‘H3k4me3StdAlnRep1.bam’\n",
            "\n",
            "H3k4me3StdAlnRep1.b 100%[===================>] 333.80M  47.4MB/s    in 7.6s    \n",
            "\n",
            "2023-04-05 12:20:17 (43.9 MB/s) - ‘H3k4me3StdAlnRep1.bam’ saved [350012137/350012137]\n",
            "\n",
            "--2023-04-05 12:20:17--  http://hgdownload.cse.ucsc.edu/goldenPath/hg19/encodeDCC/wgEncodeBroadHistone/wgEncodeBroadHistoneHsmmtH3k79me2StdAlnRep1.bam\n",
            "Resolving hgdownload.cse.ucsc.edu (hgdownload.cse.ucsc.edu)... 128.114.119.163\n",
            "Connecting to hgdownload.cse.ucsc.edu (hgdownload.cse.ucsc.edu)|128.114.119.163|:80... connected.\n",
            "HTTP request sent, awaiting response... 200 OK\n",
            "Length: 1187039829 (1.1G) [application/octet-stream]\n",
            "Saving to: ‘H3k79me2StdAlnRep1.bam’\n",
            "\n",
            "H3k79me2StdAlnRep1. 100%[===================>]   1.11G  43.5MB/s    in 23s     \n",
            "\n",
            "2023-04-05 12:20:41 (48.2 MB/s) - ‘H3k79me2StdAlnRep1.bam’ saved [1187039829/1187039829]\n",
            "\n",
            "--2023-04-05 12:20:41--  http://hgdownload.cse.ucsc.edu/goldenPath/hg19/encodeDCC/wgEncodeBroadHistone/wgEncodeBroadHistoneHsmmtH3k9acStdAlnRep1.bam\n",
            "Resolving hgdownload.cse.ucsc.edu (hgdownload.cse.ucsc.edu)... 128.114.119.163\n",
            "Connecting to hgdownload.cse.ucsc.edu (hgdownload.cse.ucsc.edu)|128.114.119.163|:80... connected.\n",
            "HTTP request sent, awaiting response... 200 OK\n",
            "Length: 516147377 (492M) [application/octet-stream]\n",
            "Saving to: ‘H3k9acStdAlnRep1.bam’\n",
            "\n",
            "H3k9acStdAlnRep1.ba 100%[===================>] 492.24M  50.5MB/s    in 11s     \n",
            "\n",
            "2023-04-05 12:20:52 (46.3 MB/s) - ‘H3k9acStdAlnRep1.bam’ saved [516147377/516147377]\n",
            "\n",
            "--2023-04-05 12:20:52--  http://hgdownload.cse.ucsc.edu/goldenPath/hg19/encodeDCC/wgEncodeBroadHistone/wgEncodeBroadHistoneHsmmtH4k20me1StdAlnRep1.bam\n",
            "Resolving hgdownload.cse.ucsc.edu (hgdownload.cse.ucsc.edu)... 128.114.119.163\n",
            "Connecting to hgdownload.cse.ucsc.edu (hgdownload.cse.ucsc.edu)|128.114.119.163|:80... connected.\n",
            "HTTP request sent, awaiting response... 200 OK\n",
            "Length: 776692607 (741M) [application/octet-stream]\n",
            "Saving to: ‘H4k20me1StdAlnRep1.bam’\n",
            "\n",
            "H4k20me1StdAlnRep1. 100%[===================>] 740.71M  48.9MB/s    in 15s     \n",
            "\n",
            "2023-04-05 12:21:07 (48.3 MB/s) - ‘H4k20me1StdAlnRep1.bam’ saved [776692607/776692607]\n",
            "\n",
            "--2023-04-05 12:21:07--  http://hgdownload.cse.ucsc.edu/goldenPath/hg19/encodeDCC/wgEncodeBroadHistone/wgEncodeBroadHistoneHsmmtCtcfStdAlnRep1.bam\n",
            "Resolving hgdownload.cse.ucsc.edu (hgdownload.cse.ucsc.edu)... 128.114.119.163\n",
            "Connecting to hgdownload.cse.ucsc.edu (hgdownload.cse.ucsc.edu)|128.114.119.163|:80... connected.\n",
            "HTTP request sent, awaiting response... 200 OK\n",
            "Length: 546914746 (522M) [application/octet-stream]\n",
            "Saving to: ‘CtcfStdAlnRep1.bam’\n",
            "\n",
            "CtcfStdAlnRep1.bam  100%[===================>] 521.58M  51.9MB/s    in 11s     \n",
            "\n",
            "2023-04-05 12:21:19 (46.4 MB/s) - ‘CtcfStdAlnRep1.bam’ saved [546914746/546914746]\n",
            "\n",
            "--2023-04-05 12:21:19--  http://hgdownload.cse.ucsc.edu/goldenPath/hg19/encodeDCC/wgEncodeBroadHistone/wgEncodeBroadHistoneHsmmtControlStdAlnRep1.bam\n",
            "Resolving hgdownload.cse.ucsc.edu (hgdownload.cse.ucsc.edu)... 128.114.119.163\n",
            "Connecting to hgdownload.cse.ucsc.edu (hgdownload.cse.ucsc.edu)|128.114.119.163|:80... connected.\n",
            "HTTP request sent, awaiting response... 200 OK\n",
            "Length: 1716775431 (1.6G) [application/octet-stream]\n",
            "Saving to: ‘ControlStdAlnRep1.bam’\n",
            "\n",
            "ControlStdAlnRep1.b 100%[===================>]   1.60G  51.1MB/s    in 33s     \n",
            "\n",
            "2023-04-05 12:21:53 (49.2 MB/s) - ‘ControlStdAlnRep1.bam’ saved [1716775431/1716775431]\n",
            "\n",
            "--2023-04-05 12:21:53--  https://raw.githubusercontent.com/SpryGorgon/hse_hw3_chromhmm/main/cellmarkfiletable.txt\n",
            "Resolving raw.githubusercontent.com (raw.githubusercontent.com)... 185.199.110.133, 185.199.109.133, 185.199.111.133, ...\n",
            "Connecting to raw.githubusercontent.com (raw.githubusercontent.com)|185.199.110.133|:443... connected.\n",
            "HTTP request sent, awaiting response... 200 OK\n",
            "Length: 602 [text/plain]\n",
            "Saving to: ‘cellmarkfiletable.txt’\n",
            "\n",
            "cellmarkfiletable.t 100%[===================>]     602  --.-KB/s    in 0s      \n",
            "\n",
            "2023-04-05 12:21:53 (48.0 MB/s) - ‘cellmarkfiletable.txt’ saved [602/602]\n",
            "\n"
          ]
        }
      ]
    },
    {
      "cell_type": "markdown",
      "source": [
        "* Вручную создаем текстовый файл cellmarkfiletable.txt, в котором указываем название типа клеток, разных гистоновых меток, а также соответствующие .bam файлы для эксперимента и контроля. Один и тот же контрольный файл .bam может быть использован для всех экспериментов.\n",
        "\n",
        "* Более подробно о содержании файла cellmarkfiletable.txt можно посмотреть в руководстве пользователя ChromHMM\n",
        "\n",
        "* Файл cellmarkfiletable.txt добавляем в github репозиторий для отчета"
      ],
      "metadata": {
        "id": "asjMJ26h79SY"
      }
    },
    {
      "cell_type": "markdown",
      "source": [
        "Запускаем ChromHMM с опцией BinarizeBam, чтобы конвертировать профили из ChIP-seq экспериментов (bam-файлы) в табличку из 0 и 1, т.е. чтобы сделать разбивку генома на условные интервалы (бины) длиной 200 п.о.\n",
        "Для 11 меток программа работает около 5 мин\n"
      ],
      "metadata": {
        "id": "WeoRL3rp728b"
      }
    },
    {
      "cell_type": "code",
      "source": [
        "!java -mx5000M -jar /content/ChromHMM/ChromHMM.jar BinarizeBam -b 200  /content/ChromHMM/CHROMSIZES/hg19.txt /content/ cellmarkfiletable.txt   binarizedData\n"
      ],
      "metadata": {
        "colab": {
          "base_uri": "https://localhost:8080/"
        },
        "id": "GcVBvuQZfzb8",
        "outputId": "1089ccf3-1fa7-44db-d35f-e0e1b6e29d83"
      },
      "execution_count": 8,
      "outputs": [
        {
          "output_type": "stream",
          "name": "stdout",
          "text": [
            "Writing to file binarizedData/HSMMtube_chr1_binary.txt\n",
            "Writing to file binarizedData/HSMMtube_chr2_binary.txt\n",
            "Writing to file binarizedData/HSMMtube_chr3_binary.txt\n",
            "Writing to file binarizedData/HSMMtube_chr4_binary.txt\n",
            "Writing to file binarizedData/HSMMtube_chr5_binary.txt\n",
            "Writing to file binarizedData/HSMMtube_chr6_binary.txt\n",
            "Writing to file binarizedData/HSMMtube_chr7_binary.txt\n",
            "Writing to file binarizedData/HSMMtube_chrX_binary.txt\n",
            "Writing to file binarizedData/HSMMtube_chr8_binary.txt\n",
            "Writing to file binarizedData/HSMMtube_chr9_binary.txt\n",
            "Writing to file binarizedData/HSMMtube_chr10_binary.txt\n",
            "Writing to file binarizedData/HSMMtube_chr11_binary.txt\n",
            "Writing to file binarizedData/HSMMtube_chr12_binary.txt\n",
            "Writing to file binarizedData/HSMMtube_chr13_binary.txt\n",
            "Writing to file binarizedData/HSMMtube_chr14_binary.txt\n",
            "Writing to file binarizedData/HSMMtube_chr15_binary.txt\n",
            "Writing to file binarizedData/HSMMtube_chr16_binary.txt\n",
            "Writing to file binarizedData/HSMMtube_chr17_binary.txt\n",
            "Writing to file binarizedData/HSMMtube_chr18_binary.txt\n",
            "Writing to file binarizedData/HSMMtube_chr20_binary.txt\n",
            "Writing to file binarizedData/HSMMtube_chrY_binary.txt\n",
            "Writing to file binarizedData/HSMMtube_chr19_binary.txt\n",
            "Writing to file binarizedData/HSMMtube_chr22_binary.txt\n",
            "Writing to file binarizedData/HSMMtube_chr21_binary.txt\n",
            "Writing to file binarizedData/HSMMtube_chrM_binary.txt\n"
          ]
        }
      ]
    },
    {
      "cell_type": "markdown",
      "source": [
        "Запускаем ChromHMM с опцией LearnModel (см. руководство пользователя), которая автоматически определит параметры N разных эпигенетических типов с наиболее выраженными наборами гистоновых меток и присвоит каждому геномному интервалу определенный эпигенетический тип. Количество разных эпигенетических типов (или состояний) выбираете сами (например 10 штук).\n",
        "Не забудьте, что мы работаем с версией референсного генома человека hg19\n",
        "Для 11 меток программа работает около 10 минут\n"
      ],
      "metadata": {
        "id": "Yo11TtNG8SXU"
      }
    },
    {
      "cell_type": "code",
      "source": [
        "!java -mx5000M -jar /content/ChromHMM/ChromHMM.jar LearnModel -p 0 binarizedData ChromHMM_Results 10 hg19"
      ],
      "metadata": {
        "colab": {
          "base_uri": "https://localhost:8080/"
        },
        "id": "iiULyIskXtTp",
        "outputId": "8692ae81-0278-41e9-f6d2-cdc2c0b7755a"
      },
      "execution_count": 9,
      "outputs": [
        {
          "output_type": "stream",
          "name": "stdout",
          "text": [
            "Using 2 threads for Baum-Welch training\n",
            "Writing to file ChromHMM_Results/transitions_10.txt\n",
            "Writing to file ChromHMM_Results/emissions_10.txt\n",
            "Writing to file ChromHMM_Results/emissions_10.svg\n",
            "Writing to file ChromHMM_Results/emissions_10.png\n",
            "Writing to file ChromHMM_Results/transitions_10.png\n",
            "Writing to file ChromHMM_Results/transitions_10.svg\n",
            "Writing to file ChromHMM_Results/model_10.txt\n",
            " Iteration  Estimated Log Likelihood     Change    Total Time (secs)\n",
            "         1             -12174130.162          -                 12.7\n",
            "         2             -11243589.620 930540.542                 23.6\n",
            "         3             -11057074.363 186515.257                 34.5\n",
            "         4             -10919468.380 137605.983                 44.2\n",
            "         5             -10810000.985 109467.395                 56.1\n",
            "         6             -10706060.203 103940.782                 67.9\n",
            "         7             -10613398.392  92661.811                 79.3\n",
            "         8             -10543585.034  69813.358                 90.0\n",
            "         9             -10494259.201  49325.833                100.5\n",
            "        10             -10454944.386  39314.815                112.8\n",
            "        11             -10420126.122  34818.265                124.5\n",
            "        12             -10389331.755  30794.367                134.0\n",
            "        13             -10363388.418  25943.337                144.4\n",
            "        14             -10342949.645  20438.774                154.5\n",
            "        15             -10328129.927  14819.717                164.6\n",
            "        16             -10318174.431   9955.496                174.8\n",
            "        17             -10311775.486   6398.946                183.9\n",
            "        18             -10307703.193   4072.293                194.0\n",
            "        19             -10305076.789   2626.404                204.2\n",
            "        20             -10303337.300   1739.489                214.2\n",
            "        21             -10302146.589   1190.711                225.2\n",
            "        22             -10301303.102    843.486                233.5\n",
            "        23             -10300686.145    616.957                242.7\n",
            "        24             -10300222.077    464.068                251.9\n",
            "        25             -10299864.653    357.424                260.9\n",
            "        26             -10299583.811    280.842                269.2\n",
            "        27             -10299359.269    224.542                280.1\n",
            "        28             -10299176.844    182.426                292.7\n",
            "        29             -10299026.342    150.502                302.9\n",
            "        30             -10298899.795    126.547                312.9\n",
            "        31             -10298791.405    108.390                324.2\n",
            "        32             -10298698.033     93.371                333.1\n",
            "        33             -10298615.574     82.459                343.1\n",
            "        34             -10298541.014     74.560                353.0\n",
            "        35             -10298471.980     69.034                362.9\n",
            "        36             -10298406.437     65.543                372.6\n",
            "        37             -10298342.551     63.886                381.7\n",
            "        38             -10298278.667     63.884                391.6\n",
            "        39             -10298213.373     65.294                401.6\n",
            "        40             -10298145.538     67.834                411.5\n",
            "        41             -10298074.279     71.259                421.1\n",
            "        42             -10297998.606     75.673                430.5\n",
            "        43             -10297917.086     81.521                440.4\n",
            "        44             -10297827.694     89.391                450.3\n",
            "        45             -10297727.836     99.858                460.2\n",
            "        46             -10297614.562    113.274                469.2\n",
            "        47             -10297484.788    129.775                479.0\n",
            "        48             -10297336.814    147.973                489.0\n",
            "        49             -10297169.020    167.794                498.9\n",
            "        50             -10296977.222    191.798                508.8\n",
            "        51             -10296757.886    219.336                517.9\n",
            "        52             -10296506.266    251.620                527.6\n",
            "        53             -10296214.849    291.417                537.8\n",
            "        54             -10295876.718    338.132                547.8\n",
            "        55             -10295482.423    394.295                557.8\n",
            "        56             -10295019.267    463.156                567.2\n",
            "        57             -10294471.110    548.157                576.7\n",
            "        58             -10293816.492    654.618                586.6\n",
            "        59             -10293041.974    774.518                596.3\n",
            "        60             -10292134.735    907.239                606.1\n",
            "        61             -10291083.892   1050.842                615.0\n",
            "        62             -10289887.991   1195.901                624.7\n",
            "        63             -10288581.898   1306.094                635.0\n",
            "        64             -10287221.564   1360.333                645.6\n",
            "        65             -10285857.690   1363.874                656.0\n",
            "        66             -10284555.154   1302.537                665.2\n",
            "        67             -10283388.336   1166.818                674.7\n",
            "        68             -10282385.884   1002.453                684.5\n",
            "        69             -10281540.412    845.472                694.3\n",
            "        70             -10280842.632    697.780                704.1\n",
            "        71             -10280273.947    568.686                713.3\n",
            "        72             -10279811.702    462.245                723.1\n",
            "        73             -10279435.020    376.682                733.1\n",
            "        74             -10279123.568    311.452                743.0\n",
            "        75             -10278858.981    264.587                752.9\n",
            "        76             -10278624.341    234.639                762.3\n",
            "        77             -10278403.640    220.701                771.9\n",
            "        78             -10278181.644    221.996                781.8\n",
            "        79             -10277943.480    238.164                791.7\n",
            "        80             -10277674.306    269.174                801.6\n",
            "        81             -10277359.414    314.892                811.0\n",
            "        82             -10276984.782    374.632                820.5\n",
            "        83             -10276538.219    446.564                830.4\n",
            "        84             -10276011.650    526.569                840.2\n",
            "        85             -10275403.078    608.572                850.1\n",
            "        86             -10274717.215    685.863                859.2\n",
            "        87             -10273965.726    751.488                868.9\n",
            "        88             -10273163.897    801.829                878.8\n",
            "        89             -10272325.657    838.240                888.8\n",
            "        90             -10271461.371    864.286                900.7\n",
            "        91             -10270579.571    881.800                910.6\n",
            "        92             -10269683.247    896.324                919.5\n",
            "        93             -10268768.797    914.450                929.5\n",
            "        94             -10267829.005    939.792                939.4\n",
            "        95             -10266856.724    972.281                949.4\n",
            "        96             -10265846.524   1010.200                959.3\n",
            "        97             -10264793.323   1053.201                968.5\n",
            "        98             -10263691.663   1101.660                978.4\n",
            "        99             -10262536.420   1155.243                988.3\n",
            "       100             -10261326.315   1210.105                998.2\n",
            "       101             -10260068.416   1257.899               1007.6\n",
            "       102             -10258769.992   1298.424               1017.3\n",
            "       103             -10257433.871   1336.121               1027.2\n",
            "       104             -10256060.972   1372.900               1037.4\n",
            "       105             -10254652.062   1408.909               1047.3\n",
            "       106             -10253208.493   1443.569               1056.6\n",
            "       107             -10251732.761   1475.732               1066.2\n",
            "       108             -10250229.283   1503.478               1076.1\n",
            "       109             -10248704.746   1524.537               1085.9\n",
            "       110             -10247167.819   1536.927               1095.8\n",
            "       111             -10245628.817   1539.002               1105.1\n",
            "       112             -10244099.688   1529.129               1114.6\n",
            "       113             -10242594.027   1505.661               1124.5\n",
            "       114             -10241126.635   1467.392               1134.4\n",
            "       115             -10239712.608   1414.027               1144.3\n",
            "       116             -10238366.176   1346.432               1153.3\n",
            "       117             -10237099.548   1266.628               1163.2\n",
            "       118             -10235922.164   1177.384               1173.1\n",
            "       119             -10234840.500   1081.663               1183.0\n",
            "       120             -10233858.234    982.267               1192.8\n",
            "       121             -10232976.501    881.733               1201.7\n",
            "       122             -10232194.129    782.372               1211.6\n",
            "       123             -10231507.842    686.287               1221.6\n",
            "       124             -10230912.520    595.321               1231.7\n",
            "       125             -10230401.660    510.860               1241.6\n",
            "       126             -10229967.663    433.997               1250.6\n",
            "       127             -10229602.381    365.282               1260.5\n",
            "       128             -10229297.494    304.887               1270.4\n",
            "       129             -10229044.869    252.625               1280.4\n",
            "       130             -10228836.842    208.028               1290.2\n",
            "       131             -10228666.400    170.442               1299.3\n",
            "       132             -10228527.299    139.101               1309.2\n",
            "       133             -10228414.096    113.204               1319.0\n",
            "       134             -10228322.130     91.966               1328.9\n",
            "       135             -10228247.474     74.656               1338.3\n",
            "       136             -10228186.857     60.617               1347.7\n",
            "       137             -10228137.586     49.271               1357.6\n",
            "       138             -10228097.459     40.127               1367.7\n",
            "       139             -10228064.689     32.770               1377.8\n",
            "       140             -10228037.835     26.854               1387.4\n",
            "       141             -10228015.736     22.099               1396.9\n",
            "       142             -10227997.463     18.273               1406.8\n",
            "       143             -10227982.269     15.194               1416.7\n",
            "       144             -10227969.559     12.710               1426.7\n",
            "       145             -10227958.853     10.705               1436.1\n",
            "       146             -10227949.770      9.084               1445.5\n",
            "       147             -10227941.999      7.771               1455.4\n",
            "       148             -10227935.292      6.707               1465.3\n",
            "       149             -10227929.448      5.844               1475.3\n",
            "       150             -10227924.302      5.146               1484.9\n",
            "       151             -10227919.721      4.582               1495.1\n",
            "       152             -10227915.593      4.128               1505.6\n",
            "       153             -10227911.826      3.767               1515.8\n",
            "       154             -10227908.346      3.480               1525.6\n",
            "       155             -10227905.085      3.261               1535.1\n",
            "       156             -10227901.994      3.091               1544.4\n",
            "       157             -10227899.023      2.971               1554.3\n",
            "       158             -10227896.132      2.891               1564.2\n",
            "       159             -10227893.286      2.846               1574.0\n",
            "       160             -10227890.455      2.832               1582.9\n",
            "       161             -10227887.610      2.844               1592.8\n",
            "       162             -10227884.730      2.881               1602.6\n",
            "       163             -10227881.791      2.939               1612.5\n",
            "       164             -10227878.773      3.018               1622.3\n",
            "       165             -10227875.555      3.218               1631.2\n",
            "       166             -10227870.370      5.185               1641.1\n",
            "       167             -10227865.344      5.026               1650.9\n",
            "       168             -10227861.632      3.712               1660.7\n",
            "       169             -10227857.906      3.727               1670.1\n",
            "       170             -10227854.080      3.826               1679.5\n",
            "       171             -10227850.118      3.962               1689.4\n",
            "       172             -10227846.001      4.117               1699.4\n",
            "       173             -10227841.720      4.281               1709.4\n",
            "       174             -10227837.267      4.453               1719.2\n",
            "       175             -10227832.644      4.623               1728.7\n",
            "       176             -10227827.849      4.795               1738.7\n",
            "       177             -10227822.885      4.964               1748.6\n",
            "       178             -10227817.757      5.128               1758.6\n",
            "       179             -10227812.471      5.286               1767.9\n",
            "       180             -10227807.034      5.436               1777.6\n",
            "       181             -10227801.457      5.577               1787.6\n",
            "       182             -10227795.751      5.706               1797.6\n",
            "       183             -10227789.928      5.823               1807.5\n",
            "       184             -10227784.002      5.926               1816.5\n",
            "       185             -10227777.987      6.015               1826.4\n",
            "       186             -10227771.900      6.087               1836.4\n",
            "       187             -10227765.756      6.144               1846.6\n",
            "       188             -10227759.573      6.183               1857.1\n",
            "       189             -10227753.367      6.206               1867.2\n",
            "       190             -10227747.156      6.211               1876.9\n",
            "       191             -10227740.957      6.199               1887.3\n",
            "       192             -10227734.786      6.171               1897.4\n",
            "       193             -10227728.660      6.126               1908.0\n",
            "       194             -10227722.594      6.066               1918.7\n",
            "       195             -10227716.603      5.991               1927.9\n",
            "       196             -10227710.701      5.902               1937.6\n",
            "       197             -10227704.901      5.801               1947.5\n",
            "       198             -10227699.213      5.687               1957.5\n",
            "       199             -10227693.650      5.564               1967.5\n",
            "       200             -10227688.218      5.431               1981.7\n",
            "Writing to file ChromHMM_Results/HSMMtube_10_segments.bed\n",
            "Writing to file ChromHMM_Results/HSMMtube_10_dense.bed\n",
            "Writing to file ChromHMM_Results/HSMMtube_10_expanded.bed\n",
            "Writing to file ChromHMM_Results/HSMMtube_10_overlap.txt\n",
            "Writing to file ChromHMM_Results/HSMMtube_10_overlap.png\n",
            "Writing to file ChromHMM_Results/HSMMtube_10_overlap.svg\n",
            "Writing to file ChromHMM_Results/HSMMtube_10_RefSeqTSS_neighborhood.txt\n",
            "Writing to file ChromHMM_Results/HSMMtube_10_RefSeqTSS_neighborhood.png\n",
            "Writing to file ChromHMM_Results/HSMMtube_10_RefSeqTSS_neighborhood.svg\n",
            "Writing to file ChromHMM_Results/HSMMtube_10_RefSeqTES_neighborhood.txt\n",
            "Writing to file ChromHMM_Results/HSMMtube_10_RefSeqTES_neighborhood.png\n",
            "Writing to file ChromHMM_Results/HSMMtube_10_RefSeqTES_neighborhood.svg\n",
            "Warning could not automatically open in a browser ChromHMM_Results/webpage_10.html\n"
          ]
        }
      ]
    },
    {
      "cell_type": "code",
      "source": [
        "!zip -r -0 -q ./ChromHMM_Results.zip ./ChromHMM_Results/"
      ],
      "metadata": {
        "id": "oxLUgFPnhMb5"
      },
      "execution_count": 10,
      "outputs": []
    },
    {
      "cell_type": "markdown",
      "source": [
        "В результате выполнения команды LearnModel будет создан набор файлов (в том числе HTML страничка) в папке выдачи, которая была указана при запуске. Скачиваем эту папку себе на копьютер и открываем HTML файл.\n",
        "\n",
        "Дальнейшие инстркции -- см. в описании ДЗ"
      ],
      "metadata": {
        "id": "7yuCmmw-gsFC"
      }
    }
  ]
}